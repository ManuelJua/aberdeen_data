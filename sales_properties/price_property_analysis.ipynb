{
 "cells": [
  {
   "cell_type": "code",
   "execution_count": 2,
   "metadata": {},
   "outputs": [],
   "source": [
    "import pandas as pd\n",
    "import matplotlib.pyplot as plt"
   ]
  },
  {
   "cell_type": "code",
   "execution_count": 3,
   "metadata": {},
   "outputs": [],
   "source": [
    "data_zones=pd.read_csv('../data_zones.csv')\n"
   ]
  },
  {
   "cell_type": "code",
   "execution_count": 4,
   "metadata": {},
   "outputs": [],
   "source": [
    "def read_and_transform(file_name,index_col=1,header=6):\n",
    "    df=pd.read_csv(file_name,index_col=index_col,header=header)\n",
    "    df=df.drop('http://purl.org/linked-data/sdmx/2009/dimension#refArea',axis=1).T.rename(columns={'Reference Area':'Year'})\n",
    "    return df\n",
    "    \n",
    "count_df=read_and_transform('scotland_sales/residential-properties-sales-and-price-count.csv')\n",
    "median_df=read_and_transform('scotland_sales/residential-properties-sales-and-price-median.csv')\n",
    "lq_df=read_and_transform('scotland_sales/residential-properties-sales-and-price-lower-quartile.csv')\n",
    "uq_df=read_and_transform('scotland_sales/residential-properties-sales-and-price-upper-quartile.csv')"
   ]
  }
 ],
 "metadata": {
  "kernelspec": {
   "display_name": "abervenv",
   "language": "python",
   "name": "python3"
  },
  "language_info": {
   "codemirror_mode": {
    "name": "ipython",
    "version": 3
   },
   "file_extension": ".py",
   "mimetype": "text/x-python",
   "name": "python",
   "nbconvert_exporter": "python",
   "pygments_lexer": "ipython3",
   "version": "3.8.10"
  }
 },
 "nbformat": 4,
 "nbformat_minor": 2
}
