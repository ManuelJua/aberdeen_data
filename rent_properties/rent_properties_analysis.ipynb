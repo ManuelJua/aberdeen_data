{
 "cells": [
  {
   "cell_type": "code",
   "execution_count": 5,
   "metadata": {},
   "outputs": [],
   "source": [
    "import pandas as pd"
   ]
  },
  {
   "cell_type": "code",
   "execution_count": 6,
   "metadata": {},
   "outputs": [],
   "source": [
    "def get_data(sheet_name,header=4,nrows=19,index_col=0,\n",
    "            file_name='private-sector-rent-stats-scotland-nov-2023.xlsx'):\n",
    "    df=pd.read_excel(file_name,sheet_name=sheet_name,header=header,nrows=nrows,\n",
    "                    index_col=index_col)\n",
    "    return df\n",
    "                             \n",
    "one_bedroom_df=get_data('Table 1, Chart 2')\n",
    "two_bedroom_df=get_data('Table 2, Chart 4')                             \n",
    "three_bedroom_df=get_data('Table 3, Chart 6')\n",
    "four_bedroom_df=get_data('Table 4, Chart 8')                          \n",
    "shared_bedroom_df=get_data('Table 5, Chart 10')\n",
    "                                                                                                     "
   ]
  },
  {
   "cell_type": "code",
   "execution_count": 7,
   "metadata": {},
   "outputs": [],
   "source": [
    "#Data for median an quartiles for Aberdeen and Aberdeenshire\n",
    "def aberdeen_prof(header,sheet_name='BRMA Profile - A',nrows=4,index_col=0,\n",
    "            file_name='private-sector-rent-stats-scotland-nov-2023.xlsx',usecols=\"A:Q\"):\n",
    "    df=pd.read_excel(file_name,sheet_name=sheet_name,header=header,\n",
    "                    nrows=nrows,index_col=index_col,usecols=usecols)\n",
    "    return df\n",
    "                            \n",
    "m_one_df=aberdeen_prof(header=13)\n",
    "m_two_df=aberdeen_prof(header=35)\n",
    "m_three_df=aberdeen_prof(header=57)\n",
    "m_four_df=aberdeen_prof(header=79)\n",
    "m_shared_df=aberdeen_prof(header=101)\n"
   ]
  },
  {
   "cell_type": "code",
   "execution_count": null,
   "metadata": {},
   "outputs": [],
   "source": [
    "''' \n",
    "Analyze the ratio between median wages and rent to compare different cities in UK. Similiar\n",
    "of what as been done by The Economist for different citie in the world\n",
    "'''"
   ]
  }
 ],
 "metadata": {
  "kernelspec": {
   "display_name": "abervenv",
   "language": "python",
   "name": "python3"
  },
  "language_info": {
   "codemirror_mode": {
    "name": "ipython",
    "version": 3
   },
   "file_extension": ".py",
   "mimetype": "text/x-python",
   "name": "python",
   "nbconvert_exporter": "python",
   "pygments_lexer": "ipython3",
   "version": "3.8.10"
  }
 },
 "nbformat": 4,
 "nbformat_minor": 2
}
